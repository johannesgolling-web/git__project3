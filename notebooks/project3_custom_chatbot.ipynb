{
 "cells": [
  {
   "cell_type": "markdown",
   "id": "124e5672",
   "metadata": {},
   "source": [
    "# Custom Chatbot Project"
   ]
  },
  {
   "cell_type": "markdown",
   "id": "f22ae278",
   "metadata": {},
   "source": [
    "This notebook builds a simple custom chatbot powered by OpenAI.  \n",
    "It uses the CSV dataset of **2023 fashion trends** and implements a lightweight RAG (retrieve-and-generate) flow without further use of external frameworks.\n",
    "\n",
    "**What you can find**\n",
    "- Load and prepare a dataset (into `text` column)\n",
    "- Create basic retrieval with TF-IDF + cosine similarity\n",
    "- Compare answers **with** vs. **without** custom context\n",
    "- a small interactive loop\n"
   ]
  },
  {
   "cell_type": "markdown",
   "id": "2a4a94b3",
   "metadata": {},
   "source": [
    "For this project, I use the 2023 Fashion Trends dataset 2023_fashion_trends.\n",
    "It contains short text snippets from online articles that describe fashion trends and key style directions in 2023.\n",
    "This dataset should be a good choice because the texts are concise, descriptive, and focus on one single topic — fashion.\n",
    "It allows the chatbot to give more specific answers about 2023 trends, such as colors, materials, or design influences.\n",
    "A general OpenAI model could talk about fashion in general, but by adding this dataset, the chatbot becomes more focused and accurate when answering questions about acutal trends in 2023."
   ]
  },
  {
   "cell_type": "markdown",
   "id": "931acd52",
   "metadata": {},
   "source": [
    "## Setup and Imports"
   ]
  },
  {
   "cell_type": "code",
   "execution_count": 9,
   "id": "27ae31a9",
   "metadata": {},
   "outputs": [],
   "source": [
    "# Basic\n",
    "import openai\n",
    "import pandas as pd\n",
    "import numpy as np\n",
    "\n",
    "# Similarity search\n",
    "from sklearn.feature_extraction.text import TfidfVectorizer\n",
    "from sklearn.metrics.pairwise import cosine_similarity\n",
    "\n",
    "# Vocareum API base \n",
    "openai.api_base = \"https://openai.vocareum.com/v1\"\n",
    "openai.api_key = \"voc-1622931096126677453626668ffa1b827e0a3.38491922\" # SET API KEY"
   ]
  },
  {
   "cell_type": "markdown",
   "id": "a63d4c5f",
   "metadata": {},
   "source": [
    "## Data Wrangling"
   ]
  },
  {
   "cell_type": "code",
   "execution_count": 12,
   "id": "c69b83a1",
   "metadata": {},
   "outputs": [
    {
     "name": "stdout",
     "output_type": "stream",
     "text": [
      "Columns: ['URL', 'Trends', 'Source']\n",
      "Number of rows: 82\n"
     ]
    }
   ],
   "source": [
    "# Load CSV file\n",
    "df = pd.read_csv(r\"C:\\Users\\P319970\\git_delivery\\git__project3\\data\\raw\\2023_fashion_trends.csv\")\n",
    "\n",
    "# Check existing columns\n",
    "print(\"Columns:\", df.columns.tolist())\n",
    "print(\"Number of rows:\", len(df))"
   ]
  },
  {
   "cell_type": "code",
   "execution_count": 27,
   "id": "0a595980",
   "metadata": {},
   "outputs": [
    {
     "name": "stdout",
     "output_type": "stream",
     "text": [
      "Shape: (82, 5)\n",
      "\n",
      "Missing values per column:\n",
      "URL            0\n",
      "Trends         0\n",
      "Source         0\n",
      "text           0\n",
      "text_length    0\n",
      "dtype: int64\n",
      "\n",
      "Number of duplicate text rows: 0\n",
      "\n",
      "Average text length: 434.1\n",
      "Minimum text length: 150\n",
      "\n",
      "short entries (< 200 characters):\n",
      "69    \"Leather jackets are leading the nouveau grung...\n",
      "Name: Trends, dtype: object\n",
      "\n",
      "Remaining rows after cleaning: 82\n"
     ]
    }
   ],
   "source": [
    "# data quality check on df\n",
    "\n",
    "# Basic info\n",
    "print(\"Shape:\", df.shape)\n",
    "\n",
    "# Check for missing values\n",
    "print(\"\\nMissing values per column:\")\n",
    "print(df.isnull().sum())\n",
    "\n",
    "# Check for duplicates\n",
    "duplicates = df.duplicated(subset=[\"Trends\"]).sum()\n",
    "print(f\"\\nNumber of duplicate text rows: {duplicates}\")\n",
    "\n",
    "# Check average and min length of the trend texts\n",
    "df[\"text_length\"] = df[\"Trends\"].astype(str).apply(len)\n",
    "print(\"\\nAverage text length:\", round(df[\"text_length\"].mean(), 1))\n",
    "print(\"Minimum text length:\", df[\"text_length\"].min())\n",
    "\n",
    "# Show very short or empty entries\n",
    "print(\"\\nshort entries (< 200 characters):\")\n",
    "print(df[df[\"text_length\"] < 200][\"Trends\"].head())\n",
    "\n",
    "# Optional: remove bad rows\n",
    "df = df.dropna(subset=[\"Trends\"])\n",
    "df = df.drop_duplicates(subset=[\"Trends\"])\n",
    "df = df[df[\"text_length\"] > 30].copy()\n",
    "\n",
    "# Check new size\n",
    "print(\"\\nRemaining rows after cleaning:\", len(df))\n"
   ]
  },
  {
   "cell_type": "code",
   "execution_count": 28,
   "id": "acb3a9fd",
   "metadata": {},
   "outputs": [
    {
     "data": {
      "text/html": [
       "<div>\n",
       "<style scoped>\n",
       "    .dataframe tbody tr th:only-of-type {\n",
       "        vertical-align: middle;\n",
       "    }\n",
       "\n",
       "    .dataframe tbody tr th {\n",
       "        vertical-align: top;\n",
       "    }\n",
       "\n",
       "    .dataframe thead th {\n",
       "        text-align: right;\n",
       "    }\n",
       "</style>\n",
       "<table border=\"1\" class=\"dataframe\">\n",
       "  <thead>\n",
       "    <tr style=\"text-align: right;\">\n",
       "      <th></th>\n",
       "      <th>text</th>\n",
       "    </tr>\n",
       "  </thead>\n",
       "  <tbody>\n",
       "    <tr>\n",
       "      <th>0</th>\n",
       "      <td>2023 Fashion Trend: Red. Glossy red hues took ...</td>\n",
       "    </tr>\n",
       "    <tr>\n",
       "      <th>1</th>\n",
       "      <td>2023 Fashion Trend: Cargo Pants. Utilitarian w...</td>\n",
       "    </tr>\n",
       "    <tr>\n",
       "      <th>2</th>\n",
       "      <td>2023 Fashion Trend: Sheer Clothing. \"Bare it a...</td>\n",
       "    </tr>\n",
       "    <tr>\n",
       "      <th>3</th>\n",
       "      <td>2023 Fashion Trend: Denim Reimagined. From dou...</td>\n",
       "    </tr>\n",
       "    <tr>\n",
       "      <th>4</th>\n",
       "      <td>2023 Fashion Trend: Shine For The Daytime. The...</td>\n",
       "    </tr>\n",
       "  </tbody>\n",
       "</table>\n",
       "</div>"
      ],
      "text/plain": [
       "                                                text\n",
       "0  2023 Fashion Trend: Red. Glossy red hues took ...\n",
       "1  2023 Fashion Trend: Cargo Pants. Utilitarian w...\n",
       "2  2023 Fashion Trend: Sheer Clothing. \"Bare it a...\n",
       "3  2023 Fashion Trend: Denim Reimagined. From dou...\n",
       "4  2023 Fashion Trend: Shine For The Daytime. The..."
      ]
     },
     "execution_count": 28,
     "metadata": {},
     "output_type": "execute_result"
    }
   ],
   "source": [
    "# Create 'text' column out of the column 'Trends', which contains main text content\n",
    "df[\"text\"] = df[\"Trends\"].astype(str).str.strip()\n",
    "\n",
    "# Keep only 'text' column for chatbot context\n",
    "fashion_df = df[[\"text\"]].copy()\n",
    "\n",
    "# Preview first 5 rows\n",
    "fashion_df.head()"
   ]
  },
  {
   "cell_type": "markdown",
   "id": "ae769871",
   "metadata": {},
   "source": [
    "## Custom Query Completion\n",
    "\n",
    "TODO: In the cells below, compose a custom query using your chosen dataset and retrieve results from an OpenAI `Completion` model. You may copy and paste any useful code from the course materials."
   ]
  },
  {
   "cell_type": "code",
   "execution_count": null,
   "id": "582f0656",
   "metadata": {},
   "outputs": [],
   "source": []
  },
  {
   "cell_type": "code",
   "execution_count": null,
   "id": "8b6e1f75",
   "metadata": {},
   "outputs": [],
   "source": []
  },
  {
   "cell_type": "code",
   "execution_count": null,
   "id": "13f2dcd7",
   "metadata": {},
   "outputs": [],
   "source": []
  },
  {
   "cell_type": "code",
   "execution_count": null,
   "id": "c403f543",
   "metadata": {},
   "outputs": [],
   "source": []
  },
  {
   "cell_type": "code",
   "execution_count": null,
   "id": "74280b92",
   "metadata": {},
   "outputs": [],
   "source": []
  },
  {
   "cell_type": "markdown",
   "id": "1783f146",
   "metadata": {},
   "source": [
    "## Custom Performance Demonstration\n",
    "\n",
    "TODO: In the cells below, demonstrate the performance of your custom query using at least 2 questions. For each question, show the answer from a basic `Completion` model query as well as the answer from your custom query."
   ]
  },
  {
   "cell_type": "markdown",
   "id": "4f11fdc0",
   "metadata": {},
   "source": [
    "### Question 1"
   ]
  },
  {
   "cell_type": "code",
   "execution_count": null,
   "id": "4901c850",
   "metadata": {},
   "outputs": [],
   "source": []
  },
  {
   "cell_type": "code",
   "execution_count": null,
   "id": "bd7a093b",
   "metadata": {},
   "outputs": [],
   "source": []
  },
  {
   "cell_type": "markdown",
   "id": "6e86e37c",
   "metadata": {},
   "source": [
    "### Question 2"
   ]
  },
  {
   "cell_type": "code",
   "execution_count": null,
   "id": "6f646989",
   "metadata": {},
   "outputs": [],
   "source": []
  },
  {
   "cell_type": "code",
   "execution_count": null,
   "id": "11c07a54",
   "metadata": {},
   "outputs": [],
   "source": []
  }
 ],
 "metadata": {
  "kernelspec": {
   "display_name": ".venv",
   "language": "python",
   "name": "python3"
  },
  "language_info": {
   "codemirror_mode": {
    "name": "ipython",
    "version": 3
   },
   "file_extension": ".py",
   "mimetype": "text/x-python",
   "name": "python",
   "nbconvert_exporter": "python",
   "pygments_lexer": "ipython3",
   "version": "3.14.0"
  }
 },
 "nbformat": 4,
 "nbformat_minor": 5
}
